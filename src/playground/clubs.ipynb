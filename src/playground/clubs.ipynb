{
 "cells": [
  {
   "cell_type": "code",
   "execution_count": 41,
   "id": "a9be31d0-9b69-4ac5-90f4-9ee0926ad878",
   "metadata": {},
   "outputs": [
    {
     "name": "stdout",
     "output_type": "stream",
     "text": [
      "[['bayer', '04', 'leverkusen'], ['vfb', 'stuttgart'], ['fc', 'bayern', 'muenchen'], ['rb', 'leipzig'], ['borussia', 'dortmund'], ['eintracht', 'frankfurt'], ['tsg', 'hoffenheim'], ['1', 'fc', 'heidenheim'], ['werder', 'bremen'], ['sc', 'freiburg'], ['fc', 'augsburg'], ['vfl', 'wolfsburg'], ['1', 'fsv', 'mainz', '05'], ['bor', 'moenchengladbach'], ['1', 'fc', 'union', 'berlin'], ['vfl', 'bochum'], ['1', 'fc', 'koeln'], ['sv', 'darmstadt', '98']]\n",
      "{'bayer-04-leverkusen': 'BAY', 'vfb-stuttgart': 'STU', 'fc-bayern-muenchen': 'MUE', 'rb-leipzig': 'LEI', 'borussia-dortmund': 'BOR', 'eintracht-frankfurt': 'EIN', 'tsg-hoffenheim': 'HOF', '1-fc-heidenheim': 'HEI', 'werder-bremen': 'WER', 'sc-freiburg': 'FRE', 'fc-augsburg': 'AUG', 'vfl-wolfsburg': 'WOL', '1-fsv-mainz-05': 'MAI', 'bor-moenchengladbach': 'MOE', '1-fc-union-berlin': 'UNI', 'vfl-bochum': 'BOC', '1-fc-koeln': 'KOE', 'sv-darmstadt-98': 'DAR'}\n"
     ]
    }
   ],
   "source": [
    "import os\n",
    "import json\n",
    "os. getcwd()\n",
    "os.chdir('D:\\\\DevOps\\\\applications\\\\FootballRepository')\n",
    "os. getcwd()\n",
    "\n",
    "file_path = \"bl_2324.json\"\n",
    "with open(file_path, 'r', encoding='utf-8') as file:\n",
    "    data = json.load(file)\n",
    "\n",
    "club_ids = [club[\"id\"].split(\"-\") for club in data[\"clubs\"]]\n",
    "print(club_ids)\n",
    "\n",
    "codes = {}\n",
    "for club_split in club_ids:\n",
    "    for part in club_split:\n",
    "        if len(part) > 3:\n",
    "            if part[:3].upper() in codes:\n",
    "                continue\n",
    "            \n",
    "            codes[part[:3].upper()] = '-'.join(club_split)\n",
    "            break\n",
    "\n",
    "swapped_dict = {value: key for key, value in codes.items()}\n",
    "print(swapped_dict)"
   ]
  },
  {
   "cell_type": "code",
   "execution_count": 47,
   "id": "a123ba89-31cf-482f-96d1-87fa41d039eb",
   "metadata": {},
   "outputs": [
    {
     "name": "stdout",
     "output_type": "stream",
     "text": [
      "[['bayer', '04', 'leverkusen'], ['vfb', 'stuttgart'], ['fc', 'bayern', 'muenchen'], ['rb', 'leipzig'], ['borussia', 'dortmund'], ['eintracht', 'frankfurt'], ['tsg', 'hoffenheim'], ['1', 'fc', 'heidenheim'], ['werder', 'bremen'], ['sc', 'freiburg'], ['fc', 'augsburg'], ['vfl', 'wolfsburg'], ['1', 'fsv', 'mainz', '05'], ['bor', 'moenchengladbach'], ['1', 'fc', 'union', 'berlin'], ['vfl', 'bochum'], ['1', 'fc', 'koeln'], ['sv', 'darmstadt', '98']]\n",
      "{'bayer-04-leverkusen': 'BAY', 'vfb-stuttgart': 'STU', 'fc-bayern-muenchen': 'MUE', 'rb-leipzig': 'LEI', 'borussia-dortmund': 'BOR', 'eintracht-frankfurt': 'EIN', 'tsg-hoffenheim': 'HOF', '1-fc-heidenheim': 'HEI', 'werder-bremen': 'WER', 'sc-freiburg': 'FRE', 'fc-augsburg': 'AUG', 'vfl-wolfsburg': 'WOL', '1-fsv-mainz-05': 'MAI', 'bor-moenchengladbach': 'MOE', '1-fc-union-berlin': 'UNI', 'vfl-bochum': 'BOC', '1-fc-koeln': 'KOE', 'sv-darmstadt-98': 'DAR'}\n"
     ]
    }
   ],
   "source": [
    "clubs_info = [{'name': 'Bayer 04 Leverkusen', 'id': 'bayer-04-leverkusen', 'info': 'https://www.kicker.de/bayer-04-leverkusen/info/bundesliga/2023-24', 'squad': 'https://www.kicker.de/bayer-04-leverkusen/kader/bundesliga/2023-24', 'stadium': 'https://www.kicker.de/bayer-04-leverkusen/team-stadion/bundesliga/2023-24'}, {'name': 'VfB Stuttgart', 'id': 'vfb-stuttgart', 'info': 'https://www.kicker.de/vfb-stuttgart/info/bundesliga/2023-24', 'squad': 'https://www.kicker.de/vfb-stuttgart/kader/bundesliga/2023-24', 'stadium': 'https://www.kicker.de/vfb-stuttgart/team-stadion/bundesliga/2023-24'}, {'name': 'Bayern München', 'id': 'fc-bayern-muenchen', 'info': 'https://www.kicker.de/fc-bayern-muenchen/info/bundesliga/2023-24', 'squad': 'https://www.kicker.de/fc-bayern-muenchen/kader/bundesliga/2023-24', 'stadium': 'https://www.kicker.de/fc-bayern-muenchen/team-stadion/bundesliga/2023-24'}, {'name': 'RB Leipzig', 'id': 'rb-leipzig', 'info': 'https://www.kicker.de/rb-leipzig/info/bundesliga/2023-24', 'squad': 'https://www.kicker.de/rb-leipzig/kader/bundesliga/2023-24', 'stadium': 'https://www.kicker.de/rb-leipzig/team-stadion/bundesliga/2023-24'}, {'name': 'Borussia Dortmund', 'id': 'borussia-dortmund', 'info': 'https://www.kicker.de/borussia-dortmund/info/bundesliga/2023-24', 'squad': 'https://www.kicker.de/borussia-dortmund/kader/bundesliga/2023-24', 'stadium': 'https://www.kicker.de/borussia-dortmund/team-stadion/bundesliga/2023-24'}, {'name': 'Eintracht Frankfurt', 'id': 'eintracht-frankfurt', 'info': 'https://www.kicker.de/eintracht-frankfurt/info/bundesliga/2023-24', 'squad': 'https://www.kicker.de/eintracht-frankfurt/kader/bundesliga/2023-24', 'stadium': 'https://www.kicker.de/eintracht-frankfurt/team-stadion/bundesliga/2023-24'}, {'name': 'TSG Hoffenheim', 'id': 'tsg-hoffenheim', 'info': 'https://www.kicker.de/tsg-hoffenheim/info/bundesliga/2023-24', 'squad': 'https://www.kicker.de/tsg-hoffenheim/kader/bundesliga/2023-24', 'stadium': 'https://www.kicker.de/tsg-hoffenheim/team-stadion/bundesliga/2023-24'}, {'name': '1. FC Heidenheim', 'id': '1-fc-heidenheim', 'info': 'https://www.kicker.de/1-fc-heidenheim/info/bundesliga/2023-24', 'squad': 'https://www.kicker.de/1-fc-heidenheim/kader/bundesliga/2023-24', 'stadium': 'https://www.kicker.de/1-fc-heidenheim/team-stadion/bundesliga/2023-24'}, {'name': 'Werder Bremen', 'id': 'werder-bremen', 'info': 'https://www.kicker.de/werder-bremen/info/bundesliga/2023-24', 'squad': 'https://www.kicker.de/werder-bremen/kader/bundesliga/2023-24', 'stadium': 'https://www.kicker.de/werder-bremen/team-stadion/bundesliga/2023-24'}, {'name': 'SC Freiburg', 'id': 'sc-freiburg', 'info': 'https://www.kicker.de/sc-freiburg/info/bundesliga/2023-24', 'squad': 'https://www.kicker.de/sc-freiburg/kader/bundesliga/2023-24', 'stadium': 'https://www.kicker.de/sc-freiburg/team-stadion/bundesliga/2023-24'}, {'name': 'FC Augsburg', 'id': 'fc-augsburg', 'info': 'https://www.kicker.de/fc-augsburg/info/bundesliga/2023-24', 'squad': 'https://www.kicker.de/fc-augsburg/kader/bundesliga/2023-24', 'stadium': 'https://www.kicker.de/fc-augsburg/team-stadion/bundesliga/2023-24'}, {'name': 'VfL Wolfsburg', 'id': 'vfl-wolfsburg', 'info': 'https://www.kicker.de/vfl-wolfsburg/info/bundesliga/2023-24', 'squad': 'https://www.kicker.de/vfl-wolfsburg/kader/bundesliga/2023-24', 'stadium': 'https://www.kicker.de/vfl-wolfsburg/team-stadion/bundesliga/2023-24'}, {'name': '1. FSV Mainz 05', 'id': '1-fsv-mainz-05', 'info': 'https://www.kicker.de/1-fsv-mainz-05/info/bundesliga/2023-24', 'squad': 'https://www.kicker.de/1-fsv-mainz-05/kader/bundesliga/2023-24', 'stadium': 'https://www.kicker.de/1-fsv-mainz-05/team-stadion/bundesliga/2023-24'}, {'name': 'Bor. Mönchengladbach', 'id': 'bor-moenchengladbach', 'info': 'https://www.kicker.de/bor-moenchengladbach/info/bundesliga/2023-24', 'squad': 'https://www.kicker.de/bor-moenchengladbach/kader/bundesliga/2023-24', 'stadium': 'https://www.kicker.de/bor-moenchengladbach/team-stadion/bundesliga/2023-24'}, {'name': '1. FC Union Berlin', 'id': '1-fc-union-berlin', 'info': 'https://www.kicker.de/1-fc-union-berlin/info/bundesliga/2023-24', 'squad': 'https://www.kicker.de/1-fc-union-berlin/kader/bundesliga/2023-24', 'stadium': 'https://www.kicker.de/1-fc-union-berlin/team-stadion/bundesliga/2023-24'}, {'name': 'VfL Bochum', 'id': 'vfl-bochum', 'info': 'https://www.kicker.de/vfl-bochum/info/bundesliga/2023-24', 'squad': 'https://www.kicker.de/vfl-bochum/kader/bundesliga/2023-24', 'stadium': 'https://www.kicker.de/vfl-bochum/team-stadion/bundesliga/2023-24'}, {'name': '1. FC Köln', 'id': '1-fc-koeln', 'info': 'https://www.kicker.de/1-fc-koeln/info/bundesliga/2023-24', 'squad': 'https://www.kicker.de/1-fc-koeln/kader/bundesliga/2023-24', 'stadium': 'https://www.kicker.de/1-fc-koeln/team-stadion/bundesliga/2023-24'}, {'name': 'SV Darmstadt 98', 'id': 'sv-darmstadt-98', 'info': 'https://www.kicker.de/sv-darmstadt-98/info/bundesliga/2023-24', 'squad': 'https://www.kicker.de/sv-darmstadt-98/kader/bundesliga/2023-24', 'stadium': 'https://www.kicker.de/sv-darmstadt-98/team-stadion/bundesliga/2023-24'}]\n",
    "#print(json.dumps(clubs_info, indent=2))\n",
    "club_ids = [club[\"id\"].split(\"-\") for club in clubs_info]\n",
    "print(club_ids)\n",
    "\n",
    "codes = {}\n",
    "for club_split in club_ids:\n",
    "    for part in club_split:\n",
    "        if len(part) > 3:\n",
    "            if part[:3].upper() in codes:\n",
    "                continue\n",
    "            \n",
    "            codes[part[:3].upper()] = '-'.join(club_split)\n",
    "            break\n",
    "\n",
    "swapped_dict = {value: key for key, value in codes.items()}\n",
    "print(swapped_dict)"
   ]
  }
 ],
 "metadata": {
  "kernelspec": {
   "display_name": "Python 3 (ipykernel)",
   "language": "python",
   "name": "python3"
  },
  "language_info": {
   "codemirror_mode": {
    "name": "ipython",
    "version": 3
   },
   "file_extension": ".py",
   "mimetype": "text/x-python",
   "name": "python",
   "nbconvert_exporter": "python",
   "pygments_lexer": "ipython3",
   "version": "3.11.7"
  }
 },
 "nbformat": 4,
 "nbformat_minor": 5
}
